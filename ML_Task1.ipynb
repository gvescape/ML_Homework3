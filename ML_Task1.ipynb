{
 "cells": [
  {
   "cell_type": "code",
   "execution_count": 1,
   "metadata": {
    "id": "_dbYzmrASc7Y"
   },
   "outputs": [],
   "source": [
    "import numpy as np\n",
    "import pandas as pd\n",
    "import scipy \n",
    "import sklearn\n",
    "from collections import Counter as Count\n",
    "from sklearn.metrics import multilabel_confusion_matrix as MCM\n",
    "from scipy import spatial\n",
    "from sklearn.model_selection import train_test_split as tt_split"
   ]
  },
  {
   "cell_type": "code",
   "execution_count": 2,
   "metadata": {
    "id": "EV9TP3iyShn-"
   },
   "outputs": [],
   "source": [
    "data_load = pd.read_csv(r'/Users/saikumargv/Downloads/kmeans_data/data.csv')\n",
    "label = pd.read_csv(r'/Users/saikumargv/Downloads/kmeans_data/label.csv',names=['label'],header=None)"
   ]
  },
  {
   "cell_type": "code",
   "execution_count": 3,
   "metadata": {
    "colab": {
     "base_uri": "https://localhost:8080/",
     "height": 279
    },
    "id": "lXkr77swV5H9",
    "outputId": "594e4fd9-a551-4eba-db09-ca78ad33dd65"
   },
   "outputs": [
    {
     "data": {
      "text/html": [
       "<div>\n",
       "<style scoped>\n",
       "    .dataframe tbody tr th:only-of-type {\n",
       "        vertical-align: middle;\n",
       "    }\n",
       "\n",
       "    .dataframe tbody tr th {\n",
       "        vertical-align: top;\n",
       "    }\n",
       "\n",
       "    .dataframe thead th {\n",
       "        text-align: right;\n",
       "    }\n",
       "</style>\n",
       "<table border=\"1\" class=\"dataframe\">\n",
       "  <thead>\n",
       "    <tr style=\"text-align: right;\">\n",
       "      <th></th>\n",
       "      <th>0</th>\n",
       "      <th>0.1</th>\n",
       "      <th>0.2</th>\n",
       "      <th>0.3</th>\n",
       "      <th>0.4</th>\n",
       "      <th>0.5</th>\n",
       "      <th>0.6</th>\n",
       "      <th>0.7</th>\n",
       "      <th>0.8</th>\n",
       "      <th>0.9</th>\n",
       "      <th>...</th>\n",
       "      <th>0.658</th>\n",
       "      <th>0.659</th>\n",
       "      <th>0.660</th>\n",
       "      <th>0.661</th>\n",
       "      <th>0.662</th>\n",
       "      <th>0.663</th>\n",
       "      <th>0.664</th>\n",
       "      <th>0.665</th>\n",
       "      <th>0.666</th>\n",
       "      <th>0.667</th>\n",
       "    </tr>\n",
       "  </thead>\n",
       "  <tbody>\n",
       "    <tr>\n",
       "      <th>0</th>\n",
       "      <td>0</td>\n",
       "      <td>0</td>\n",
       "      <td>0</td>\n",
       "      <td>0</td>\n",
       "      <td>0</td>\n",
       "      <td>0</td>\n",
       "      <td>0</td>\n",
       "      <td>0</td>\n",
       "      <td>0</td>\n",
       "      <td>0</td>\n",
       "      <td>...</td>\n",
       "      <td>0</td>\n",
       "      <td>0</td>\n",
       "      <td>0</td>\n",
       "      <td>0</td>\n",
       "      <td>0</td>\n",
       "      <td>0</td>\n",
       "      <td>0</td>\n",
       "      <td>0</td>\n",
       "      <td>0</td>\n",
       "      <td>0</td>\n",
       "    </tr>\n",
       "    <tr>\n",
       "      <th>1</th>\n",
       "      <td>0</td>\n",
       "      <td>0</td>\n",
       "      <td>0</td>\n",
       "      <td>0</td>\n",
       "      <td>0</td>\n",
       "      <td>0</td>\n",
       "      <td>0</td>\n",
       "      <td>0</td>\n",
       "      <td>0</td>\n",
       "      <td>0</td>\n",
       "      <td>...</td>\n",
       "      <td>0</td>\n",
       "      <td>0</td>\n",
       "      <td>0</td>\n",
       "      <td>0</td>\n",
       "      <td>0</td>\n",
       "      <td>0</td>\n",
       "      <td>0</td>\n",
       "      <td>0</td>\n",
       "      <td>0</td>\n",
       "      <td>0</td>\n",
       "    </tr>\n",
       "    <tr>\n",
       "      <th>2</th>\n",
       "      <td>0</td>\n",
       "      <td>0</td>\n",
       "      <td>0</td>\n",
       "      <td>0</td>\n",
       "      <td>0</td>\n",
       "      <td>0</td>\n",
       "      <td>0</td>\n",
       "      <td>0</td>\n",
       "      <td>0</td>\n",
       "      <td>0</td>\n",
       "      <td>...</td>\n",
       "      <td>0</td>\n",
       "      <td>0</td>\n",
       "      <td>0</td>\n",
       "      <td>0</td>\n",
       "      <td>0</td>\n",
       "      <td>0</td>\n",
       "      <td>0</td>\n",
       "      <td>0</td>\n",
       "      <td>0</td>\n",
       "      <td>0</td>\n",
       "    </tr>\n",
       "    <tr>\n",
       "      <th>3</th>\n",
       "      <td>0</td>\n",
       "      <td>0</td>\n",
       "      <td>0</td>\n",
       "      <td>0</td>\n",
       "      <td>0</td>\n",
       "      <td>0</td>\n",
       "      <td>0</td>\n",
       "      <td>0</td>\n",
       "      <td>0</td>\n",
       "      <td>0</td>\n",
       "      <td>...</td>\n",
       "      <td>0</td>\n",
       "      <td>0</td>\n",
       "      <td>0</td>\n",
       "      <td>0</td>\n",
       "      <td>0</td>\n",
       "      <td>0</td>\n",
       "      <td>0</td>\n",
       "      <td>0</td>\n",
       "      <td>0</td>\n",
       "      <td>0</td>\n",
       "    </tr>\n",
       "    <tr>\n",
       "      <th>4</th>\n",
       "      <td>0</td>\n",
       "      <td>0</td>\n",
       "      <td>0</td>\n",
       "      <td>0</td>\n",
       "      <td>0</td>\n",
       "      <td>0</td>\n",
       "      <td>0</td>\n",
       "      <td>0</td>\n",
       "      <td>0</td>\n",
       "      <td>0</td>\n",
       "      <td>...</td>\n",
       "      <td>0</td>\n",
       "      <td>0</td>\n",
       "      <td>0</td>\n",
       "      <td>0</td>\n",
       "      <td>0</td>\n",
       "      <td>0</td>\n",
       "      <td>0</td>\n",
       "      <td>0</td>\n",
       "      <td>0</td>\n",
       "      <td>0</td>\n",
       "    </tr>\n",
       "  </tbody>\n",
       "</table>\n",
       "<p>5 rows × 784 columns</p>\n",
       "</div>"
      ],
      "text/plain": [
       "   0  0.1  0.2  0.3  0.4  0.5  0.6  0.7  0.8  0.9  ...  0.658  0.659  0.660  \\\n",
       "0  0    0    0    0    0    0    0    0    0    0  ...      0      0      0   \n",
       "1  0    0    0    0    0    0    0    0    0    0  ...      0      0      0   \n",
       "2  0    0    0    0    0    0    0    0    0    0  ...      0      0      0   \n",
       "3  0    0    0    0    0    0    0    0    0    0  ...      0      0      0   \n",
       "4  0    0    0    0    0    0    0    0    0    0  ...      0      0      0   \n",
       "\n",
       "   0.661  0.662  0.663  0.664  0.665  0.666  0.667  \n",
       "0      0      0      0      0      0      0      0  \n",
       "1      0      0      0      0      0      0      0  \n",
       "2      0      0      0      0      0      0      0  \n",
       "3      0      0      0      0      0      0      0  \n",
       "4      0      0      0      0      0      0      0  \n",
       "\n",
       "[5 rows x 784 columns]"
      ]
     },
     "execution_count": 3,
     "metadata": {},
     "output_type": "execute_result"
    }
   ],
   "source": [
    "data_load.head()"
   ]
  },
  {
   "cell_type": "code",
   "execution_count": 4,
   "metadata": {
    "colab": {
     "base_uri": "https://localhost:8080/"
    },
    "id": "rJ7Y_7NYV_D8",
    "outputId": "92b64688-3165-471a-de26-d93a7f1d55c5",
    "scrolled": true
   },
   "outputs": [
    {
     "data": {
      "text/plain": [
       "0        9999\n",
       "0.1      9999\n",
       "0.2      9999\n",
       "0.3      9999\n",
       "0.4      9999\n",
       "         ... \n",
       "0.663    9999\n",
       "0.664    9999\n",
       "0.665    9999\n",
       "0.666    9999\n",
       "0.667    9999\n",
       "Length: 784, dtype: int64"
      ]
     },
     "execution_count": 4,
     "metadata": {},
     "output_type": "execute_result"
    }
   ],
   "source": [
    "data_load.count()"
   ]
  },
  {
   "cell_type": "markdown",
   "metadata": {},
   "source": [
    "### Splitting Data"
   ]
  },
  {
   "cell_type": "code",
   "execution_count": 5,
   "metadata": {
    "id": "En96rQIQSmV-"
   },
   "outputs": [],
   "source": [
    "train_data, test_data = tt_split( data_load, test_size=0.08, random_state=42)\n",
    "train_labels, test_labels = tt_split( label, test_size=0.08, random_state=42)"
   ]
  },
  {
   "cell_type": "markdown",
   "metadata": {},
   "source": [
    "### KMeans"
   ]
  },
  {
   "cell_type": "code",
   "execution_count": 6,
   "metadata": {
    "id": "NBERhOkrSrVR"
   },
   "outputs": [],
   "source": [
    "class KMeans:   \n",
    " \n",
    "    def jaccardi(self,centroid, p):\n",
    "        intersection = len(list(set(centroid).intersection(p)))\n",
    "        union = (len(set(centroid)) + len(set(p))) - intersection\n",
    "        return float(intersection) / union\n",
    "        \n",
    "    def Initialize_Centroids(self,data,K):\n",
    "        row = data.shape[0]\n",
    "        centroid_value={}\n",
    "        for x in range(K):\n",
    "            rand = np.random.randint(0, row-1)\n",
    "            centroid_value[x] = data.iloc[rand]\n",
    "        return centroid_value\n",
    "\n",
    "    def Kmeans_train(self,data,K,max_iter=20,mode=1,tol=10):\n",
    "    \n",
    "        centroid_value_dict = self.Initialize_Centroids(data,K)\n",
    "        new_centroid_value_dict = {}\n",
    "        count = 0\n",
    "        centroid_dict = {}\n",
    "        convergence = False\n",
    "        while((count<max_iter) and not convergence):\n",
    "            \n",
    "            for i in list(centroid_value_dict.keys()):\n",
    "                centroid_dict[i]=[]\n",
    "            for i in range(data.shape[0]):\n",
    "                x = data.iloc[i]\n",
    "                if mode==1 :\n",
    "                    distance_measure = [np.linalg.norm(x-centroid_value_dict[k])  for k in centroid_value_dict]\n",
    "                    idx = np.argmin(distance_measure)\n",
    "                    centroid_dict[idx].append(i)\n",
    "                elif mode==2 :\n",
    "                    distance_measure = [self.jaccardi(list(x),centroid_value_dict[k]) for k in centroid_value_dict]\n",
    "                    idx = np.argmax(distance_measure)\n",
    "                    centroid_dict[idx].append(i)\n",
    "                elif mode==3 :\n",
    "                    distance_measure = [1-scipy.spatial.distance.cosine(x,list(centroid_value_dict[y]))  for y in centroid_value_dict]\n",
    "                    idx = np.argmax(distance_measure)\n",
    "                    centroid_dict[idx].append(i)\n",
    "                \n",
    "                prev_centroids=dict(centroid_value_dict)\n",
    "                \n",
    "            \n",
    "            for i in centroid_dict:\n",
    "                if len(centroid_dict[i]):\n",
    "                    dps_centroid = centroid_dict[i]\n",
    "                    centroid_value_dict[i] = np.average(data.iloc[dps_centroid],axis=0)\n",
    "            \n",
    "            \n",
    "            current_tol=-1\n",
    "            for i in centroid_value_dict:\n",
    "                prev_centroid_point = prev_centroids[i]\n",
    "                new_centroid_point = centroid_value_dict[i]\n",
    "                change = np.sum(np.absolute(new_centroid_point-prev_centroid_point))\n",
    "                current_tol = max(change, current_tol)\n",
    "                \n",
    "            print(\"Tolerance for the Iteration \",count,\": \",current_tol)\n",
    "            \n",
    "            count+=1\n",
    "            if (current_tol<10):\n",
    "                convergence = True\n",
    "                break\n",
    "                \n",
    "        return centroid_value_dict,centroid_dict\n",
    "    "
   ]
  },
  {
   "cell_type": "code",
   "execution_count": 7,
   "metadata": {},
   "outputs": [],
   "source": [
    "def calc_SSE(centroid_value_dict, centroid_dict,data):\n",
    "    sse_data = 0\n",
    "    for i in centroid_dict:\n",
    "        sse_cluster = 0\n",
    "        for j in centroid_dict[i]:\n",
    "            dp = list(data.iloc[int(j)])\n",
    "            for a,b in zip(centroid_value_dict[i],dp):\n",
    "                sse_cluster += (a-b)**2\n",
    "        sse_data+=sse_cluster\n",
    "    return sse_data "
   ]
  },
  {
   "cell_type": "code",
   "execution_count": 8,
   "metadata": {
    "id": "QGLN4LFXStV4"
   },
   "outputs": [],
   "source": [
    "def predict_labels(C, S, labels):\n",
    "    cluster_labels = np.zeros(10,dtype=int)\n",
    "    for c in C:\n",
    "        labels_of_points = []\n",
    "        for point in S[c]:\n",
    "            labels_of_points.extend(labels.iloc[point])\n",
    "        counter = Count(labels_of_points)\n",
    "        try:\n",
    "            cluster_labels[c] = max(counter, key=counter.get)\n",
    "        except:\n",
    "            cluster_labels[c] = np.random.randint(0,9)\n",
    "    return cluster_labels\n"
   ]
  },
  {
   "cell_type": "code",
   "execution_count": 9,
   "metadata": {
    "id": "VGwjGRKlToUZ"
   },
   "outputs": [],
   "source": [
    "def Acc(centroids, centroid_Labels, test_data, true_labels, mode=1):\n",
    "    y_true = list(true_labels['label']);\n",
    "    y_pred = []\n",
    "    for index in range(test_data.shape[0]):\n",
    "        featureset = test_data.iloc[index]\n",
    "        if mode==1:\n",
    "            distances = [np.linalg.norm(featureset - centroids[centroid]) for centroid in centroids]\n",
    "            classification = distances.index(min(distances))\n",
    "            y_pred.append(centroid_Labels[classification])\n",
    "        elif mode==2:\n",
    "            similarity = [jaccard_similarity(featureset, centroids[centroid]) for centroid in centroids]\n",
    "            classification = similarity.index(max(similarity))\n",
    "            y_pred.append(centroid_Labels[classification]) \n",
    "        elif mode==3:\n",
    "            similarity = [1 - spatial.distance.cosine(featureset, centroids[centroid]) for centroid in centroids]\n",
    "            classification = similarity.index(max(similarity))\n",
    "            y_pred.append(centroid_Labels[classification])\n",
    "    denominator = test_data.shape[0]\n",
    "    correctly_classified = 0\n",
    "    for i in range(0,len(y_pred)):\n",
    "        if y_true[i] == y_pred[i]:\n",
    "            correctly_classified += 1\n",
    "    accuracy = correctly_classified/denominator\n",
    "    return accuracy"
   ]
  },
  {
   "cell_type": "code",
   "execution_count": 26,
   "metadata": {
    "colab": {
     "base_uri": "https://localhost:8080/"
    },
    "id": "uZvA1eCjTtDR",
    "outputId": "d7fe85e4-9aa6-4dc7-f7ac-0a4837d19a1f",
    "scrolled": true
   },
   "outputs": [
    {
     "name": "stdout",
     "output_type": "stream",
     "text": [
      "Tolerance for the Iteration  0 :  26932.795252225522\n",
      "Tolerance for the Iteration  1 :  5612.4518020882715\n",
      "Tolerance for the Iteration  2 :  4457.640485182539\n",
      "Tolerance for the Iteration  3 :  3299.1753438341702\n",
      "Tolerance for the Iteration  4 :  2435.4944840182648\n",
      "Tolerance for the Iteration  5 :  1850.7005801305295\n",
      "Tolerance for the Iteration  6 :  1637.0839222590616\n",
      "Tolerance for the Iteration  7 :  1402.2196486544804\n",
      "Tolerance for the Iteration  8 :  1784.7379455308983\n",
      "Tolerance for the Iteration  9 :  1996.5843640160592\n",
      "Tolerance for the Iteration  10 :  2559.8516910447124\n",
      "Tolerance for the Iteration  11 :  2625.5879590321474\n",
      "Tolerance for the Iteration  12 :  2128.275598977294\n",
      "Tolerance for the Iteration  13 :  1348.2382435978343\n",
      "Tolerance for the Iteration  14 :  1135.5661986496204\n",
      "Tolerance for the Iteration  15 :  1227.7049230570515\n",
      "Tolerance for the Iteration  16 :  816.892949877156\n",
      "Tolerance for the Iteration  17 :  446.02043159038203\n",
      "Tolerance for the Iteration  18 :  430.18321561024754\n",
      "Tolerance for the Iteration  19 :  407.3207451995829\n",
      "Tolerance for the Iteration  20 :  407.90835343876074\n",
      "Tolerance for the Iteration  21 :  377.5938971945975\n",
      "Tolerance for the Iteration  22 :  316.5363182013566\n",
      "Tolerance for the Iteration  23 :  320.0898469430208\n",
      "Tolerance for the Iteration  24 :  288.19332085951487\n",
      "Tolerance for the Iteration  25 :  276.80057226927624\n",
      "Tolerance for the Iteration  26 :  210.88013318534962\n",
      "Tolerance for the Iteration  27 :  320.11125169564673\n",
      "Tolerance for the Iteration  28 :  456.5838647342997\n",
      "Tolerance for the Iteration  29 :  373.716027499071\n",
      "Tolerance for the Iteration  30 :  396.1282138919514\n",
      "Tolerance for the Iteration  31 :  438.9125731724401\n",
      "Tolerance for the Iteration  32 :  382.68242315944315\n",
      "Tolerance for the Iteration  33 :  375.0739150073946\n",
      "Tolerance for the Iteration  34 :  315.83055916903197\n",
      "Tolerance for the Iteration  35 :  288.4356081838565\n",
      "Tolerance for the Iteration  36 :  264.1053811659191\n",
      "Tolerance for the Iteration  37 :  168.0907621316464\n",
      "Tolerance for the Iteration  38 :  162.7094244367209\n",
      "Tolerance for the Iteration  39 :  193.11435766687924\n",
      "Tolerance for the Iteration  40 :  184.0849162011171\n",
      "Tolerance for the Iteration  41 :  142.8511571330938\n",
      "Tolerance for the Iteration  42 :  109.49442430807255\n",
      "Tolerance for the Iteration  43 :  84.23743907011641\n",
      "Tolerance for the Iteration  44 :  76.53009828009814\n",
      "Tolerance for the Iteration  45 :  69.26924496231524\n",
      "Tolerance for the Iteration  46 :  80.72436479072138\n",
      "Tolerance for the Iteration  47 :  92.60159027069642\n",
      "Tolerance for the Iteration  48 :  82.64243644954193\n",
      "Tolerance for the Iteration  49 :  74.78010293817218\n",
      "Tolerance for the Iteration  50 :  61.66377561832098\n",
      "Tolerance for the Iteration  51 :  53.37564548304372\n",
      "Tolerance for the Iteration  52 :  34.86943251301203\n",
      "Tolerance for the Iteration  53 :  29.526936736958845\n",
      "Tolerance for the Iteration  54 :  27.098577431714446\n",
      "Tolerance for the Iteration  55 :  28.942024471635207\n",
      "Tolerance for the Iteration  56 :  30.27175484030102\n",
      "Tolerance for the Iteration  57 :  29.287714884695816\n",
      "Tolerance for the Iteration  58 :  0.0\n"
     ]
    }
   ],
   "source": [
    "Euclidean = KMeans()\n",
    "Euclidean_centroids,clusters_Euclidean = Euclidean.Kmeans_train(data_load,10, max_iter=100,mode=1)"
   ]
  },
  {
   "cell_type": "code",
   "execution_count": 28,
   "metadata": {
    "id": "7LrEbCl4TwCM",
    "scrolled": true
   },
   "outputs": [
    {
     "data": {
      "text/plain": [
       "25321919111.363243"
      ]
     },
     "execution_count": 28,
     "metadata": {},
     "output_type": "execute_result"
    }
   ],
   "source": [
    "Euclidean_SSE = calc_SSE(Euclidean_centroids,clusters_Euclidean,data_load)\n",
    "Euclidean_SSE"
   ]
  },
  {
   "cell_type": "code",
   "execution_count": 29,
   "metadata": {
    "colab": {
     "base_uri": "https://localhost:8080/"
    },
    "id": "CfxW39oyTx69",
    "outputId": "b0cbbeb1-b682-486f-ac85-8d086a14b842",
    "scrolled": true
   },
   "outputs": [
    {
     "name": "stdout",
     "output_type": "stream",
     "text": [
      "Euclidean SSE: 25321919111.363243\n"
     ]
    }
   ],
   "source": [
    "print(\"Euclidean SSE:\",Euclidean_SSE)"
   ]
  },
  {
   "cell_type": "code",
   "execution_count": 30,
   "metadata": {
    "colab": {
     "base_uri": "https://localhost:8080/"
    },
    "id": "eea051f0",
    "outputId": "68ca37f3-6173-4d84-cdb4-f5bebbd9ea70"
   },
   "outputs": [
    {
     "data": {
      "text/plain": [
       "array([6, 4, 2, 7, 3, 0, 0, 1, 9, 5])"
      ]
     },
     "execution_count": 30,
     "metadata": {},
     "output_type": "execute_result"
    }
   ],
   "source": [
    "cluster_labels_Euclidean = predict_labels(Euclidean_centroids,clusters_Euclidean,label)\n",
    "cluster_labels_Euclidean"
   ]
  },
  {
   "cell_type": "code",
   "execution_count": 31,
   "metadata": {
    "colab": {
     "base_uri": "https://localhost:8080/"
    },
    "id": "7626677d",
    "outputId": "98c2e945-2278-476a-b0a3-243d8da39b60"
   },
   "outputs": [
    {
     "data": {
      "text/plain": [
       "0.0875"
      ]
     },
     "execution_count": 31,
     "metadata": {},
     "output_type": "execute_result"
    }
   ],
   "source": [
    "Acc_Euclidean = Acc(Euclidean_centroids, cluster_labels_Euclidean,test_data,test_labels)\n",
    "Acc_Euclidean"
   ]
  },
  {
   "cell_type": "code",
   "execution_count": 32,
   "metadata": {
    "colab": {
     "base_uri": "https://localhost:8080/"
    },
    "id": "60746ea3",
    "outputId": "adb57a0b-0d95-442c-8556-5dc649de2699"
   },
   "outputs": [
    {
     "name": "stdout",
     "output_type": "stream",
     "text": [
      "Tolerance for the Iteration  0 :  33071.849529780564\n",
      "Tolerance for the Iteration  1 :  4358.628108264696\n",
      "Tolerance for the Iteration  2 :  2864.822556518783\n",
      "Tolerance for the Iteration  3 :  1680.4838989965938\n",
      "Tolerance for the Iteration  4 :  1178.5427676803824\n",
      "Tolerance for the Iteration  5 :  1004.6728895538307\n",
      "Tolerance for the Iteration  6 :  1213.0352466526274\n",
      "Tolerance for the Iteration  7 :  1283.5921951570158\n",
      "Tolerance for the Iteration  8 :  1189.7274063080465\n",
      "Tolerance for the Iteration  9 :  823.6759801515099\n",
      "Tolerance for the Iteration  10 :  1135.201576420246\n",
      "Tolerance for the Iteration  11 :  1091.8575123149378\n",
      "Tolerance for the Iteration  12 :  560.3007881321157\n",
      "Tolerance for the Iteration  13 :  323.1918784018806\n",
      "Tolerance for the Iteration  14 :  0.0\n"
     ]
    }
   ],
   "source": [
    "Jaccardi = KMeans()\n",
    "Jaccardi_centroids,Jaccardi_clusters = Jaccardi.Kmeans_train(data_load,10, max_iter=100,mode=2)\n",
    "Jaccardi_SSE = calc_SSE(Jaccardi_centroids,Jaccardi_clusters,data_load)"
   ]
  },
  {
   "cell_type": "code",
   "execution_count": 33,
   "metadata": {
    "colab": {
     "base_uri": "https://localhost:8080/"
    },
    "id": "3d9f8277",
    "outputId": "0f761618-315b-4cc9-ca2d-88a3a6d8be36"
   },
   "outputs": [
    {
     "name": "stdout",
     "output_type": "stream",
     "text": [
      "Jacard SSE: 34361687572.938736\n"
     ]
    }
   ],
   "source": [
    "print(\"Jacard SSE:\",Jaccardi_SSE)"
   ]
  },
  {
   "cell_type": "code",
   "execution_count": 34,
   "metadata": {
    "colab": {
     "base_uri": "https://localhost:8080/"
    },
    "id": "5ca9e8fd",
    "outputId": "805793e3-63ee-4071-a3ec-14c496d913f9"
   },
   "outputs": [
    {
     "data": {
      "text/plain": [
       "array([1, 2, 4, 5, 6, 2, 7, 0, 1, 3])"
      ]
     },
     "execution_count": 34,
     "metadata": {},
     "output_type": "execute_result"
    }
   ],
   "source": [
    "cluster_Jaccardi = predict_labels(Jaccardi_centroids,Jaccardi_clusters,label)\n",
    "cluster_Jaccardi "
   ]
  },
  {
   "cell_type": "code",
   "execution_count": 35,
   "metadata": {
    "colab": {
     "base_uri": "https://localhost:8080/"
    },
    "id": "7813fdeb",
    "outputId": "0792c282-76ba-427c-a108-b89b5c5ee4fc"
   },
   "outputs": [
    {
     "data": {
      "text/plain": [
       "0.1075"
      ]
     },
     "execution_count": 35,
     "metadata": {},
     "output_type": "execute_result"
    }
   ],
   "source": [
    "Acc_Jaccard = Acc(Jaccardi_centroids, cluster_Jaccardi ,test_data,test_labels)\n",
    "Acc_Jaccard"
   ]
  },
  {
   "cell_type": "code",
   "execution_count": 38,
   "metadata": {
    "colab": {
     "base_uri": "https://localhost:8080/"
    },
    "id": "6e31f4b7",
    "outputId": "bb2bf437-aed3-4216-c72c-82ddb18099a0"
   },
   "outputs": [
    {
     "name": "stdout",
     "output_type": "stream",
     "text": [
      "Tolerance for the Iteration  0 :  27423.69888820259\n",
      "Tolerance for the Iteration  1 :  6767.788736118457\n",
      "Tolerance for the Iteration  2 :  4425.965159390809\n",
      "Tolerance for the Iteration  3 :  2888.3341517319577\n",
      "Tolerance for the Iteration  4 :  2290.9843666839797\n",
      "Tolerance for the Iteration  5 :  1567.1825214576118\n",
      "Tolerance for the Iteration  6 :  989.6810224089636\n",
      "Tolerance for the Iteration  7 :  758.6502539183873\n",
      "Tolerance for the Iteration  8 :  511.0388798222637\n",
      "Tolerance for the Iteration  9 :  575.9496680204052\n",
      "Tolerance for the Iteration  10 :  532.5525870000333\n",
      "Tolerance for the Iteration  11 :  480.833920710268\n",
      "Tolerance for the Iteration  12 :  568.6960470950789\n",
      "Tolerance for the Iteration  13 :  423.7719639112787\n",
      "Tolerance for the Iteration  14 :  465.9633604381205\n",
      "Tolerance for the Iteration  15 :  469.9062508382433\n",
      "Tolerance for the Iteration  16 :  404.92197651338284\n",
      "Tolerance for the Iteration  17 :  338.0262763773254\n",
      "Tolerance for the Iteration  18 :  320.20111646273136\n",
      "Tolerance for the Iteration  19 :  294.43235029093114\n",
      "Tolerance for the Iteration  20 :  180.8300972635552\n",
      "Tolerance for the Iteration  21 :  221.49531688823606\n",
      "Tolerance for the Iteration  22 :  250.58273789649405\n",
      "Tolerance for the Iteration  23 :  261.9653691368306\n",
      "Tolerance for the Iteration  24 :  231.28533686056335\n",
      "Tolerance for the Iteration  25 :  190.52426217118506\n",
      "Tolerance for the Iteration  26 :  210.60457700773173\n",
      "Tolerance for the Iteration  27 :  188.06750724011107\n",
      "Tolerance for the Iteration  28 :  150.89804932825876\n",
      "Tolerance for the Iteration  29 :  160.17747038215722\n",
      "Tolerance for the Iteration  30 :  148.3179773467279\n",
      "Tolerance for the Iteration  31 :  176.1443987175505\n",
      "Tolerance for the Iteration  32 :  238.6781502746623\n",
      "Tolerance for the Iteration  33 :  162.17337133706968\n",
      "Tolerance for the Iteration  34 :  107.43807948922574\n",
      "Tolerance for the Iteration  35 :  123.91801494594787\n",
      "Tolerance for the Iteration  36 :  136.82726425320033\n",
      "Tolerance for the Iteration  37 :  156.5846150108427\n",
      "Tolerance for the Iteration  38 :  117.42498589336489\n",
      "Tolerance for the Iteration  39 :  134.0990049310538\n",
      "Tolerance for the Iteration  40 :  115.44621109941845\n",
      "Tolerance for the Iteration  41 :  132.35425526720624\n",
      "Tolerance for the Iteration  42 :  166.58177213999772\n",
      "Tolerance for the Iteration  43 :  162.84545739068216\n",
      "Tolerance for the Iteration  44 :  141.80439397790315\n",
      "Tolerance for the Iteration  45 :  119.44364141437892\n",
      "Tolerance for the Iteration  46 :  125.71948240290745\n",
      "Tolerance for the Iteration  47 :  121.9819435514703\n",
      "Tolerance for the Iteration  48 :  100.79444132137685\n",
      "Tolerance for the Iteration  49 :  138.82923093162617\n",
      "Tolerance for the Iteration  50 :  163.5291557623342\n",
      "Tolerance for the Iteration  51 :  161.0011216566004\n",
      "Tolerance for the Iteration  52 :  128.91038251366106\n",
      "Tolerance for the Iteration  53 :  133.10412937385172\n",
      "Tolerance for the Iteration  54 :  99.69227109319083\n",
      "Tolerance for the Iteration  55 :  94.26193419932875\n",
      "Tolerance for the Iteration  56 :  109.71550890098834\n",
      "Tolerance for the Iteration  57 :  120.88503854954479\n",
      "Tolerance for the Iteration  58 :  66.17145816598327\n",
      "Tolerance for the Iteration  59 :  69.9675155631013\n",
      "Tolerance for the Iteration  60 :  54.835345057826345\n",
      "Tolerance for the Iteration  61 :  43.054937416640904\n",
      "Tolerance for the Iteration  62 :  65.61380101113764\n",
      "Tolerance for the Iteration  63 :  103.50493994090051\n",
      "Tolerance for the Iteration  64 :  97.94922353581791\n",
      "Tolerance for the Iteration  65 :  91.0117996757341\n",
      "Tolerance for the Iteration  66 :  117.21656753824854\n",
      "Tolerance for the Iteration  67 :  105.59782775395533\n",
      "Tolerance for the Iteration  68 :  85.51498461285811\n",
      "Tolerance for the Iteration  69 :  94.90473341095984\n",
      "Tolerance for the Iteration  70 :  146.22019209151316\n",
      "Tolerance for the Iteration  71 :  144.11912606456056\n",
      "Tolerance for the Iteration  72 :  159.1410852713177\n",
      "Tolerance for the Iteration  73 :  166.16941754893975\n",
      "Tolerance for the Iteration  74 :  108.36271718555201\n",
      "Tolerance for the Iteration  75 :  135.46836025121985\n",
      "Tolerance for the Iteration  76 :  96.09240373338574\n",
      "Tolerance for the Iteration  77 :  68.24905681719886\n",
      "Tolerance for the Iteration  78 :  66.41321941846027\n",
      "Tolerance for the Iteration  79 :  40.61557377049164\n",
      "Tolerance for the Iteration  80 :  36.890118268434776\n",
      "Tolerance for the Iteration  81 :  41.75769952626074\n",
      "Tolerance for the Iteration  82 :  72.8985800188364\n",
      "Tolerance for the Iteration  83 :  76.13455763407339\n",
      "Tolerance for the Iteration  84 :  53.60678276810272\n",
      "Tolerance for the Iteration  85 :  61.76210262097548\n",
      "Tolerance for the Iteration  86 :  75.1299442016047\n",
      "Tolerance for the Iteration  87 :  40.50316955771521\n",
      "Tolerance for the Iteration  88 :  50.591779153205394\n",
      "Tolerance for the Iteration  89 :  29.683891082935\n",
      "Tolerance for the Iteration  90 :  34.20013025704997\n",
      "Tolerance for the Iteration  91 :  0.0\n"
     ]
    }
   ],
   "source": [
    "Cosine = KMeans()\n",
    "Cosine_centroids,Cosine_clusters = Cosine.Kmeans_train(data_load,10, max_iter = 100,mode=3)"
   ]
  },
  {
   "cell_type": "code",
   "execution_count": 39,
   "metadata": {
    "id": "8aa0a82b"
   },
   "outputs": [],
   "source": [
    "Cosine_SSE = calc_SSE(Cosine_centroids,Cosine_clusters,data_load)"
   ]
  },
  {
   "cell_type": "code",
   "execution_count": 40,
   "metadata": {
    "colab": {
     "base_uri": "https://localhost:8080/"
    },
    "id": "463448d8",
    "outputId": "718ecbda-663e-4766-ec65-2e888138c067"
   },
   "outputs": [
    {
     "data": {
      "text/plain": [
       "array([1, 3, 7, 0, 3, 5, 2, 9, 8, 0])"
      ]
     },
     "execution_count": 40,
     "metadata": {},
     "output_type": "execute_result"
    }
   ],
   "source": [
    "cluster_labels_cosine = predict_labels(Cosine_centroids,Cosine_clusters,label)\n",
    "cluster_labels_cosine"
   ]
  },
  {
   "cell_type": "code",
   "execution_count": 42,
   "metadata": {
    "colab": {
     "base_uri": "https://localhost:8080/"
    },
    "id": "d556ab88",
    "outputId": "01eb9cbc-1d9b-4c7f-b9c6-f6bc5106224b"
   },
   "outputs": [],
   "source": [
    "Acc_Cosine = Acc(Cosine_centroids, cluster_labels_cosine,test_data,test_labels)"
   ]
  },
  {
   "cell_type": "code",
   "execution_count": 43,
   "metadata": {
    "colab": {
     "base_uri": "https://localhost:8080/"
    },
    "id": "16a764e2",
    "outputId": "efbae869-5986-486a-cde1-0864a03c0956"
   },
   "outputs": [
    {
     "name": "stdout",
     "output_type": "stream",
     "text": [
      "Euclidean SSE: 25321919111.363243\n",
      "Jacard SSE: 34361687572.938736\n",
      "Cosine SSE : 25416869026.076195\n"
     ]
    }
   ],
   "source": [
    "print(\"Euclidean SSE:\",Euclidean_SSE)\n",
    "print(\"Jacard SSE:\",Jaccardi_SSE)\n",
    "print(\"Cosine SSE :\",Cosine_SSE)"
   ]
  },
  {
   "cell_type": "code",
   "execution_count": 44,
   "metadata": {
    "colab": {
     "base_uri": "https://localhost:8080/"
    },
    "id": "77gOgz9UseAY",
    "outputId": "a4308873-f0c5-4963-8602-72d71d180b8d"
   },
   "outputs": [
    {
     "name": "stdout",
     "output_type": "stream",
     "text": [
      "Euclidean accuracy: 0.0875\n",
      "Jacard accuracy: 0.1075\n",
      "Cosine accuracy : 0.0775\n"
     ]
    }
   ],
   "source": [
    "print(\"Euclidean accuracy:\",Acc_Euclidean)\n",
    "print(\"Jacard accuracy:\",Acc_Jaccard)\n",
    "print(\"Cosine accuracy :\",Acc_Cosine)"
   ]
  }
 ],
 "metadata": {
  "colab": {
   "provenance": []
  },
  "kernelspec": {
   "display_name": "Python 3 (ipykernel)",
   "language": "python",
   "name": "python3"
  },
  "language_info": {
   "codemirror_mode": {
    "name": "ipython",
    "version": 3
   },
   "file_extension": ".py",
   "mimetype": "text/x-python",
   "name": "python",
   "nbconvert_exporter": "python",
   "pygments_lexer": "ipython3",
   "version": "3.9.12"
  }
 },
 "nbformat": 4,
 "nbformat_minor": 1
}
